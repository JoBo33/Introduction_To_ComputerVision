{
 "cells": [
  {
   "cell_type": "markdown",
   "metadata": {},
   "source": [
    "# Introduction to Computer Vision\n",
    "\n"
   ]
  },
  {
   "cell_type": "markdown",
   "metadata": {},
   "source": [
    "## Used Libraries"
   ]
  },
  {
   "cell_type": "code",
   "execution_count": 81,
   "metadata": {},
   "outputs": [],
   "source": [
    "from scipy import linalg\n",
    "import numpy as np\n",
    "import matplotlib.pyplot as plt"
   ]
  },
  {
   "cell_type": "markdown",
   "metadata": {},
   "source": [
    "## Camera Module\n",
    "\n",
    "The Pin-Hole-Camera Model is a widely used camera model in computer vision. "
   ]
  },
  {
   "cell_type": "code",
   "execution_count": 82,
   "metadata": {},
   "outputs": [],
   "source": [
    "class Camera(object):\n",
    "    \"\"\" Class for representing pin-hole cameras. \"\"\"\n",
    "\n",
    "    def __init__(self, P):\n",
    "        \"\"\" Initialize P = K[R|t] camera model. \"\"\"\n",
    "        \n",
    "        self.P = P\n",
    "        self.K = None # calibration matrix\n",
    "        self.R = None # rotation\n",
    "        self.t = None # translation\n",
    "        self.c = None # camera center\n",
    "\n",
    "    def project(self, X):\n",
    "        \"\"\" Project points in X (4**n array) and normalize coordinates. \"\"\"\n",
    "\n",
    "        x = np.dot(self.P, X)\n",
    "        for i in range(3):\n",
    "            x[i] /= x[2]\n",
    "\n",
    "        return x\n",
    "\n",
    "    def rotation_matrix(a):\n",
    "        \"\"\" Creates a 3D rotation matrix for rotation around the axis of the vector a \"\"\"\n",
    "\n",
    "        R = np.eye(4)\n",
    "        R[:3, :3] = linalg.expm([[0, -a[2], a[1]], [a[2], 0, -a[0]], [-a[1], a[0], 0]])\n",
    "        return R\n",
    "    "
   ]
  },
  {
   "cell_type": "markdown",
   "metadata": {},
   "source": [
    "First we need to load the data from our example. In this example we will use the \"Model-House\" which is one of the Oxformd multi-view datasets. Then we make the points into homogeneous coordinates and create a **Camera** object, with the projection matrix."
   ]
  },
  {
   "cell_type": "code",
   "execution_count": 83,
   "metadata": {},
   "outputs": [],
   "source": [
    "#import camera\n",
    "\n",
    "# load points\n",
    "points = np.loadtxt('./Examples/Model_House/house.p3d')\n",
    "# matrix needs to be transposed becuase it expects the points to be like this:\n",
    "# X: [[1,3,5,3,4,6,7,4,6,25,7,2,7,4,45,...],\n",
    "# Y:  [6,-3,6,2,78,2,7,2,4,67,2,6,34,6,...],\n",
    "# Z:  [2,5,1,545,2,345,6,2,6,2,3,4,6,2,...]\n",
    "#and not like this:\n",
    "#   X  Y  Z\n",
    "# [[3, 6, 2],\n",
    "#  [2, 6, 2],\n",
    "#  [5, 2, 7],\n",
    "#  [9, 0, 1],\n",
    "#  ...]\n",
    "# => so we need to change columns and rows\n",
    "points = points.T\n",
    "points = np.vstack((points, np.ones(points.shape[1])))\n",
    "# np.ones(N) returns a array with size N filled with 1s\n",
    "\n",
    "# setup camera\n",
    "P = np.hstack((np.eye(3), np.array([[0],[0],[-10]])))\n",
    "# np.eye(N) creates a identity matrix with dimensions NxN\n",
    "cam = Camera(P)"
   ]
  },
  {
   "cell_type": "markdown",
   "metadata": {},
   "source": [
    "Then the points a projected and plotted. Which looks like this:"
   ]
  },
  {
   "cell_type": "code",
   "execution_count": 84,
   "metadata": {},
   "outputs": [
    {
     "data": {
      "image/png": "[encoded data removed]",
      "text/plain": [
       "<Figure size 432x288 with 1 Axes>"
      ]
     },
     "metadata": {
      "needs_background": "light"
     },
     "output_type": "display_data"
    }
   ],
   "source": [
    "# project the points\n",
    "x = cam.project(points)\n",
    "\n",
    "#plot projection\n",
    "plt.figure()\n",
    "plt.plot(x[0], x[1], 'k.')\n",
    "#plt.plot(x[:, 0], x[:, 1], 'k.')\n",
    "plt.show()"
   ]
  },
  {
   "cell_type": "markdown",
   "metadata": {},
   "source": [
    "To see the change in projection while moving the camera, we will create the following example:"
   ]
  },
  {
   "cell_type": "code",
   "execution_count": null,
   "metadata": {},
   "outputs": [],
   "source": [
    "# create transformation\n",
    "r = 0.05 * np.random.rand(3)\n",
    "rot = Camera.rotation_matrix(r)\n",
    "\n",
    "# rotate camera and project\n",
    "plt.figure()\n",
    "for t in range(20):\n",
    "    cam.P = np.dot(cam.P, rot)\n",
    "    x = cam.project(points)\n",
    "    plt.plot(x[0], x[1], 'k')\n",
    "\n",
    "plt.show()"
   ]
  }
 ],
 "metadata": {
  "interpreter": {
   "hash": "679da63be2c0055d67183e2c9200f35d5b8127320f0ebb41e30b251460286f5c"
  },
  "kernelspec": {
   "display_name": "Python 3.9.9 64-bit",
   "language": "python",
   "name": "python3"
  },
  "language_info": {
   "codemirror_mode": {
    "name": "ipython",
    "version": 3
   },
   "file_extension": ".py",
   "mimetype": "text/x-python",
   "name": "python",
   "nbconvert_exporter": "python",
   "pygments_lexer": "ipython3",
   "version": "3.9.9"
  },
  "orig_nbformat": 4
 },
 "nbformat": 4,
 "nbformat_minor": 2
}
