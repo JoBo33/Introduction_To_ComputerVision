{
 "cells": [
  {
   "cell_type": "markdown",
   "metadata": {},
   "source": [
    "# Introduction to Computer Vision\n",
    "\n"
   ]
  },
  {
   "cell_type": "markdown",
   "metadata": {},
   "source": [
    "## Used Libraries"
   ]
  },
  {
   "cell_type": "code",
   "execution_count": 8,
   "metadata": {},
   "outputs": [],
   "source": [
    "from scipy import linalg\n",
    "import numpy as np\n",
    "import matplotlib.pyplot as plt"
   ]
  },
  {
   "cell_type": "markdown",
   "metadata": {},
   "source": [
    "## Camera Module\n",
    "\n",
    "The Pin-Hole-Camera Model is a widely used camera model in computer vision. <br>\n",
    "\n",
    "![Pin-Hole-Camera](Pictures/Pin-Hole-Camera.jpg)\n",
    "\n",
    "\n",
    ">With a pin-hole camera, a 3D point **X** is projected to an image point **x** (both expressed in homogeneous coordinates) as: \n",
    "\n",
    "<p style=\"text-align: center;\">λx = PX</p>\n",
    "\n",
    ">Here, the 3x4 matrix **P** is called the *camera matrix* (*or projection matrx*). Note that the 3D point **X** has four elements in homogeneous coordinates, **X** = [X, Y, Z, W]. The scalar λ is the *inverse depth* of the 3D point and is needed if we want all coordinates to be homogeneous with the last value normalized to one.   "
   ]
  },
  {
   "cell_type": "code",
   "execution_count": 9,
   "metadata": {},
   "outputs": [],
   "source": [
    "class Camera(object):\n",
    "    \"\"\" Class for representing pin-hole cameras. \"\"\"\n",
    "\n",
    "    def __init__(self, P):\n",
    "        \"\"\" Initialize P = K[R|t] camera model. \"\"\"\n",
    "        \n",
    "        self.P = P\n",
    "        self.K = None # calibration matrix\n",
    "        self.R = None # rotation\n",
    "        self.t = None # translation\n",
    "        self.c = None # camera center\n",
    "\n",
    "    def project(self, X):\n",
    "        \"\"\" Project points in X (4**n array) and normalize coordinates. \"\"\"\n",
    "\n",
    "        x = np.dot(self.P, X)\n",
    "        for i in range(3):\n",
    "            x[i] /= x[2]\n",
    "\n",
    "        return x\n",
    "\n",
    "    def factor(self):\n",
    "        \"\"\" Factorize the camera matrix into K,R,t as P = K[R|t] \"\"\"\n",
    "\n",
    "        # factor first 3*3 part\n",
    "        K, R = linalg.rq(self.P[:,:3])\n",
    "\n",
    "        # make diagonal of K positive\n",
    "        T = np.diag(np.sign(np.diag(K)))\n",
    "        if linalg.det(T) < 0:\n",
    "            T[1,1] *= -1\n",
    "\n",
    "        self.K = np.dot(K,T)\n",
    "        self.R = np.dot(T,R) # T is its own inverse\n",
    "        self.t = np.dot(linalg.inv(self.K), self.P[:, 3])\n",
    "\n",
    "        return self.K, self.R, self.t\n",
    "\n",
    "    def center(self):\n",
    "        \"\"\" Compue and return the camera center \"\"\"\n",
    "\n",
    "        if self.c is not None:\n",
    "            return self.c\n",
    "\n",
    "        else:\n",
    "            # compute c by factoring\n",
    "            self.factor()\n",
    "            self.c = -np.dot(self.R.T, self.t)\n",
    "            return self.c\n",
    "\n",
    "def rotation_matrix(a):\n",
    "    \"\"\" Creates a 3D rotation matrix for rotation around the axis of the vector a \"\"\"\n",
    "\n",
    "    R = np.eye(4)\n",
    "    R[:3, :3] = linalg.expm([[0, -a[2], a[1]], [a[2], 0, -a[0]], [-a[1], a[0], 0]])\n",
    "    return R\n",
    "\n",
    "    "
   ]
  },
  {
   "cell_type": "markdown",
   "metadata": {},
   "source": [
    "First we need to load the data from our example. In this example we will use the \"Model-House\" which is one of the Oxformd multi-view datasets. Then we make the points into homogeneous coordinates and create a **Camera** object, with the projection matrix."
   ]
  },
  {
   "cell_type": "markdown",
   "metadata": {},
   "source": [
    "### Projecting 3D points"
   ]
  },
  {
   "cell_type": "code",
   "execution_count": 10,
   "metadata": {},
   "outputs": [],
   "source": [
    "#import camera\n",
    "\n",
    "# load points\n",
    "points = np.loadtxt('./Examples/Model_House/house.p3d')\n",
    "# matrix needs to be transposed becuase it expects the points to be like this:\n",
    "# X: [[1,3,5,3,4,6,7,4,6,25,7,2,7,4,45,...],\n",
    "# Y:  [6,-3,6,2,78,2,7,2,4,67,2,6,34,6,...],\n",
    "# Z:  [2,5,1,545,2,345,6,2,6,2,3,4,6,2,...]\n",
    "#and not like this:\n",
    "#   X  Y  Z\n",
    "# [[3, 6, 2],\n",
    "#  [2, 6, 2],\n",
    "#  [5, 2, 7],\n",
    "#  [9, 0, 1],\n",
    "#  ...]\n",
    "# => so we need to change columns and rows\n",
    "points = points.T\n",
    "points = np.vstack((points, np.ones(points.shape[1])))\n",
    "# np.ones(N) returns a array with size N filled with 1s\n",
    "\n",
    "# setup camera\n",
    "P = np.hstack((np.eye(3), np.array([[0],[0],[-10]])))\n",
    "# np.eye(N) creates a identity matrix with dimensions NxN\n",
    "cam = Camera(P)"
   ]
  },
  {
   "cell_type": "markdown",
   "metadata": {},
   "source": [
    "Then the points a projected and plotted. Which looks like this:"
   ]
  },
  {
   "cell_type": "code",
   "execution_count": 11,
   "metadata": {},
   "outputs": [
    {
     "data": {
      "image/png": "[encoded data removed]",
      "text/plain": [
       "<Figure size 432x288 with 1 Axes>"
      ]
     },
     "metadata": {
      "needs_background": "light"
     },
     "output_type": "display_data"
    }
   ],
   "source": [
    "# project the points\n",
    "x = cam.project(points)\n",
    "\n",
    "#plot projection\n",
    "plt.figure()\n",
    "plt.plot(x[0], x[1], 'k.')\n",
    "#plt.plot(x[:, 0], x[:, 1], 'k.')\n",
    "plt.show()"
   ]
  },
  {
   "cell_type": "markdown",
   "metadata": {},
   "source": [
    "To see the change in projection while moving the camera, we will create the following example:"
   ]
  },
  {
   "cell_type": "code",
   "execution_count": 12,
   "metadata": {},
   "outputs": [
    {
     "data": {
      "image/png": "[encoded data removed]",
      "text/plain": [
       "<Figure size 432x288 with 1 Axes>"
      ]
     },
     "metadata": {
      "needs_background": "light"
     },
     "output_type": "display_data"
    }
   ],
   "source": [
    "# create transformation\n",
    "r = 0.05 * np.random.rand(3)\n",
    "rot = rotation_matrix(r)\n",
    "\n",
    "# rotate camera and project\n",
    "plt.figure()\n",
    "for t in range(20):\n",
    "    cam.P = np.dot(cam.P, rot)\n",
    "    x = cam.project(points)\n",
    "    plt.plot(x[0], x[1], 'k.')\n",
    "\n",
    "plt.show()"
   ]
  },
  {
   "cell_type": "markdown",
   "metadata": {},
   "source": [
    "This image shows the project after the 3D points have been rotated around a random vector."
   ]
  },
  {
   "cell_type": "markdown",
   "metadata": {},
   "source": [
    "## Factoring the Camera Matrix\n",
    "\n",
    "If we are given the Camera Matrix **P**, we need to be able to recover the internal parameters **K** and the position and pose **t** and **R**. This is called *factorization*. We will use to so called *RQ-factorisation*.   \n",
    "This is why we need to add the function:\n",
    "``` python\n",
    "def factor(self):\n",
    "```\n",
    "to the Camera class."
   ]
  },
  {
   "cell_type": "markdown",
   "metadata": {},
   "source": [
    "### Computing the Camera Center\n",
    "\n",
    "It is ver useful to be able to compute the camera's position in space with a given *projection matrix* **P**. The center of the camera **C** is a 3D point with the property P**C** = 0. <br>\n",
    "For a camera with **P** = **K**[**R**|**t**]    \n",
    "   \n",
    "K[R|t]**C** = KR**C** + K**t** = 0   \n",
    "   \n",
    "**C** = -R<sup>T</sup> **t**\n",
    "\n",
    "\n",
    "This is why we need to add the function:\n",
    "``` python\n",
    "def center(self):\n",
    "```\n",
    "to the Camera class."
   ]
  },
  {
   "cell_type": "markdown",
   "metadata": {},
   "source": [
    "## Camera Calibration\n",
    "Calibrating the camera means determining the internal camera parameters, in our case the matrix **K**. If the application needs precise measurements it is possible to extend the camera modul to inculde radial distortion and other artifacts. For the most part this simple model is enough. In Computer Vision the standard way of calibrating your camera is to take lots of pictures of a flat checkerboard pattern.\n"
   ]
  },
  {
   "cell_type": "markdown",
   "metadata": {},
   "source": [
    "### A Simple Calibration Method\n",
    "\n",
    "- Measeure the sides of your rectangular calibration object. Let's call these d**X** and d**Y**\n",
    "- Place the camera and the calibration object on a flat surface so that the camer back and calibration object are parallel and the object is roughly in the center of the camera's view. You might have to raise the camera or object to get a nice alignment\n",
    "- Measure the distance from the camera to the calibration object. Let's call this d**Z**\n",
    "- Take a picture and check that the setup is straight, meaning that the sides of the calibration object align with the rows and columns of the image\n",
    "- Measure the width and height of the object in pixels. Let's call these dx and dy\n",
    "\n",
    "The following relation gives the focal length\n",
    "\n",
    "$$ f_x = \\frac{dx}{dX}\\,dZ  ,      f_y = \\frac{dy}{dY}\\,dZ$$\n",
    "<br>\n",
    "\n",
    "In my setup the object was measured to be 175 by 215 mm, d**X** = 175 and d**Y** = 215. The object was 970 mm away form the camera, so d**Z** = 970. The width and height in pixels was 595 and 720. => dx = 595, dy = 720.\n",
    "Putting these calues into the above formula gives\n",
    "$$ f_x = \\frac{595}{175}\\,970 = 3298  , f_y = \\frac{720}{215}\\,970 = 3248$$"
   ]
  },
  {
   "cell_type": "code",
   "execution_count": 13,
   "metadata": {},
   "outputs": [],
   "source": [
    "def my_calibration(sz):\n",
    "    row, col = sz\n",
    "    fx = 3298*col/4032 #4032 is the camera resolution in width\n",
    "    fy = 3248*row/3024 #3024 is the camera resolution in height\n",
    "    K = np.diag([fx,fy,1])\n",
    "    K[0,2] = 0.5*col\n",
    "    K[1,2] = 0.5*row\n",
    "\n",
    "    return K"
   ]
  },
  {
   "cell_type": "markdown",
   "metadata": {},
   "source": [
    "## Pose Estimation from Planes and Markers"
   ]
  },
  {
   "cell_type": "code",
   "execution_count": 36,
   "metadata": {},
   "outputs": [
    {
     "name": "stdout",
     "output_type": "stream",
     "text": [
      "[[-4.23996887e-01 -5.14494633e-01  8.85749578e+02]\n",
      " [ 2.96665326e-01 -2.13203443e-01  2.13826358e+02]\n",
      " [-3.48162151e-04  7.46486321e-05  1.00000000e+00]]\n"
     ]
    }
   ],
   "source": [
    "import homography\n",
    "import cv2\n",
    "\n",
    "sift = cv2.SIFT_create()\n",
    "\n",
    "# load image\n",
    "img1 = cv2.imread('./Test-Images/book_frontal.JPG')\n",
    "img2 = cv2.imread('./Test-Images/book_perspective.JPG')\n",
    "\n",
    "# find keypoints and descriptors with SIFT\n",
    "kp1, des1 = sift.detectAndCompute(cv2.cvtColor(img1, cv2.COLOR_BGR2GRAY), None)\n",
    "kp2, des2 = sift.detectAndCompute(cv2.cvtColor(img2, cv2.COLOR_BGR2GRAY), None)\n",
    "\n",
    "# find point matches\n",
    "FLANN_INDEX_KDTREE = 0\n",
    "index_params = dict(algorithm=FLANN_INDEX_KDTREE, trees=5)\n",
    "search_params = dict(checks=50)\n",
    "flann = cv2.FlannBasedMatcher(index_params, search_params)\n",
    "matches = flann.knnMatch(des1, des2, k=2)\n",
    "\n",
    "# Apply Lowe's SIFT matching ratio test\n",
    "good = []\n",
    "for m, n in matches:\n",
    "    if m.distance < 0.8 * n.distance:\n",
    "        good.append(m)\n",
    "\n",
    "src_pts = np.asarray([kp1[m.queryIdx].pt for m in good])\n",
    "dst_pts = np.asarray([kp2[m.trainIdx].pt for m in good])\n",
    "\n",
    "# Constrain matches to fit homography\n",
    "H, mask = cv2.findHomography(src_pts, dst_pts, cv2.RANSAC, 100.0)\n",
    "mask = mask.ravel()"
   ]
  },
  {
   "cell_type": "code",
   "execution_count": 37,
   "metadata": {},
   "outputs": [],
   "source": [
    "def cube_points(c, wid):\n",
    "    \"\"\" Creates a list of points for plotting a cube with plot. \"\"\"\n",
    "\n",
    "    p = []\n",
    "    # bottonm\n",
    "    p.append([c[0]-wid, c[1]-wid, c[2]-wid])\n",
    "    p.append([c[0]-wid, c[1]+wid, c[2]-wid])\n",
    "    p.append([c[0]+wid, c[1]+wid, c[2]-wid])\n",
    "    p.append([c[0]+wid, c[1]-wid, c[2]-wid])\n",
    "    p.append([c[0]-wid, c[1]-wid, c[2]-wid]) # same as first to close plot\n",
    "\n",
    "    # top\n",
    "    p.append([c[0]-wid, c[1]-wid, c[2]+wid])\n",
    "    p.append([c[0]-wid, c[1]+wid, c[2]+wid])\n",
    "    p.append([c[0]+wid, c[1]+wid, c[2]+wid])\n",
    "    p.append([c[0]+wid, c[1]-wid, c[2]+wid])\n",
    "    p.append([c[0]-wid, c[1]-wid, c[2]+wid]) # same as first to close plot\n",
    "\n",
    "    # vertical sides\n",
    "    p.append([c[0]-wid, c[1]-wid, c[2]+wid])\n",
    "    p.append([c[0]-wid, c[1]+wid, c[2]+wid])\n",
    "    p.append([c[0]-wid, c[1]+wid, c[2]-wid])\n",
    "    p.append([c[0]+wid, c[1]+wid, c[2]-wid])\n",
    "    p.append([c[0]+wid, c[1]+wid, c[2]+wid])\n",
    "    p.append([c[0]+wid, c[1]-wid, c[2]+wid])\n",
    "    p.append([c[0]+wid, c[1]-wid, c[2]-wid])\n",
    "\n",
    "    return np.array(p).T"
   ]
  },
  {
   "cell_type": "code",
   "execution_count": 38,
   "metadata": {},
   "outputs": [
    {
     "ename": "AttributeError",
     "evalue": "module 'homography' has no attribute 'make_homog'",
     "output_type": "error",
     "traceback": [
      "\u001b[1;31m---------------------------------------------------------------------------\u001b[0m",
      "\u001b[1;31mAttributeError\u001b[0m                            Traceback (most recent call last)",
      "\u001b[1;32m~\\AppData\\Local\\Temp/ipykernel_16136/3552608644.py\u001b[0m in \u001b[0;36m<module>\u001b[1;34m\u001b[0m\n\u001b[0;32m      8\u001b[0m \u001b[0mcam1\u001b[0m \u001b[1;33m=\u001b[0m \u001b[0mCamera\u001b[0m\u001b[1;33m(\u001b[0m\u001b[0mnp\u001b[0m\u001b[1;33m.\u001b[0m\u001b[0mhstack\u001b[0m\u001b[1;33m(\u001b[0m\u001b[1;33m(\u001b[0m\u001b[0mK\u001b[0m\u001b[1;33m,\u001b[0m \u001b[0mnp\u001b[0m\u001b[1;33m.\u001b[0m\u001b[0mdot\u001b[0m\u001b[1;33m(\u001b[0m\u001b[0mK\u001b[0m\u001b[1;33m,\u001b[0m \u001b[0mnp\u001b[0m\u001b[1;33m.\u001b[0m\u001b[0marray\u001b[0m\u001b[1;33m(\u001b[0m\u001b[1;33m[\u001b[0m\u001b[1;33m[\u001b[0m\u001b[1;36m0\u001b[0m\u001b[1;33m]\u001b[0m\u001b[1;33m,\u001b[0m\u001b[1;33m[\u001b[0m\u001b[1;36m0\u001b[0m\u001b[1;33m]\u001b[0m\u001b[1;33m,\u001b[0m\u001b[1;33m[\u001b[0m\u001b[1;33m-\u001b[0m\u001b[1;36m1\u001b[0m\u001b[1;33m]\u001b[0m\u001b[1;33m]\u001b[0m\u001b[1;33m)\u001b[0m\u001b[1;33m)\u001b[0m\u001b[1;33m)\u001b[0m\u001b[1;33m)\u001b[0m\u001b[1;33m)\u001b[0m\u001b[1;33m\u001b[0m\u001b[1;33m\u001b[0m\u001b[0m\n\u001b[0;32m      9\u001b[0m \u001b[1;31m# first points are the bottom square\u001b[0m\u001b[1;33m\u001b[0m\u001b[1;33m\u001b[0m\u001b[0m\n\u001b[1;32m---> 10\u001b[1;33m \u001b[0mbox_cam1\u001b[0m \u001b[1;33m=\u001b[0m \u001b[0mcam1\u001b[0m\u001b[1;33m.\u001b[0m\u001b[0mproject\u001b[0m\u001b[1;33m(\u001b[0m\u001b[0mhomography\u001b[0m\u001b[1;33m.\u001b[0m\u001b[0mmake_homog\u001b[0m\u001b[1;33m(\u001b[0m\u001b[0mbox\u001b[0m\u001b[1;33m[\u001b[0m\u001b[1;33m:\u001b[0m\u001b[1;33m,\u001b[0m\u001b[1;33m:\u001b[0m\u001b[1;36m5\u001b[0m\u001b[1;33m]\u001b[0m\u001b[1;33m)\u001b[0m\u001b[1;33m)\u001b[0m\u001b[1;33m\u001b[0m\u001b[1;33m\u001b[0m\u001b[0m\n\u001b[0m\u001b[0;32m     11\u001b[0m \u001b[1;33m\u001b[0m\u001b[0m\n\u001b[0;32m     12\u001b[0m \u001b[1;31m# use H to transfer points to the second image\u001b[0m\u001b[1;33m\u001b[0m\u001b[1;33m\u001b[0m\u001b[0m\n",
      "\u001b[1;31mAttributeError\u001b[0m: module 'homography' has no attribute 'make_homog'"
     ]
    }
   ],
   "source": [
    "# camera calibration\n",
    "K = my_calibration((4032, 3024))\n",
    "\n",
    "# 3D points at plane z=0 with sides of length 0.2\n",
    "box = cube_points([0,0,0.1],0.1)\n",
    "\n",
    "#project bottom square in first image\n",
    "cam1 = Camera(np.hstack((K, np.dot(K, np.array([[0],[0],[-1]])))))\n",
    "# first points are the bottom square\n",
    "box_cam1 = cam1.project(homography.make_homog(box[:,:5]))\n",
    "\n",
    "# use H to transfer points to the second image\n",
    "box_trans = homography.normalize(np.dot(H, box_cam1))\n",
    "\n",
    "# conmpute second camera matrix from cam1 and H\n",
    "cam2 = Camera(np.dot(H, cam1.P))\n",
    "A = np.dot(linalg.inv(K), cam2.P[:,:3])\n",
    "A = np.array([A[:,0], A[:,1], np.cross(A[:,0], A[:,1])]).T\n",
    "cam2.P[:,:3] = np.dot(K,A)\n",
    "\n",
    "# project with the second camera\n",
    "box_cam2 = cam2.project(homography.make_homog(box))\n",
    "\n",
    "# tes: projecting point on z=0 should give the same\n",
    "point = np.array([1,1,0,1]).T\n",
    "print(homography.normalize(np.dot(np.dot(H, cam1.P), point)))\n",
    "print(cam2.project(point))"
   ]
  },
  {
   "cell_type": "markdown",
   "metadata": {},
   "source": [
    "Visualizing the points can be done like this:"
   ]
  },
  {
   "cell_type": "code",
   "execution_count": null,
   "metadata": {},
   "outputs": [],
   "source": [
    "from PIL import Image\t\n",
    "\n",
    "im0 = np.array(Image.open('./Test-Images/book_frontal.JPG'))\n",
    "im1 = np.array(Image.open('./Test-Images/book_perspective.JPG'))\n",
    "\n",
    "# 2D projection of bottom square\n",
    "plt.figure()\n",
    "plt.imshow(im0)\n",
    "plt.plot(box_cam1[0,:], box_cam1[1,:], linewidth=3)\n",
    "\n",
    "# 2D projection of transferred with H\n",
    "plt.figure()\n",
    "plt.imshow(im1)\n",
    "plt.plot(box_trans[0,:], box_trans[1,:], linewidth=3)\n",
    "\n",
    "# 3D cube\n",
    "plt.figure()\n",
    "plt.imshow(im1)\n",
    "plt.plot(box_cam2[0,:], box_cam2[1,:], linewidth=3)\n",
    "\n",
    "plt.show()"
   ]
  }
 ],
 "metadata": {
  "interpreter": {
   "hash": "679da63be2c0055d67183e2c9200f35d5b8127320f0ebb41e30b251460286f5c"
  },
  "kernelspec": {
   "display_name": "Python 3.9.9 64-bit",
   "language": "python",
   "name": "python3"
  },
  "language_info": {
   "codemirror_mode": {
    "name": "ipython",
    "version": 3
   },
   "file_extension": ".py",
   "mimetype": "text/x-python",
   "name": "python",
   "nbconvert_exporter": "python",
   "pygments_lexer": "ipython3",
   "version": "3.9.9"
  },
  "orig_nbformat": 4
 },
 "nbformat": 4,
 "nbformat_minor": 2
}
