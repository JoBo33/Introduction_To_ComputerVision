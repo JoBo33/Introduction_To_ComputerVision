{
 "cells": [
  {
   "cell_type": "markdown",
   "metadata": {},
   "source": [
    "# Introduction to Computer Vision\n",
    "\n"
   ]
  },
  {
   "cell_type": "markdown",
   "metadata": {},
   "source": [
    "## Camera Module"
   ]
  },
  {
   "cell_type": "code",
   "execution_count": null,
   "metadata": {},
   "outputs": [],
   "source": [
    "from scipy import linalg\n",
    "\n",
    "class Camera(object):\n",
    "    #Class for representing pin-hole cameras\n",
    "\n",
    "    def __init__(self, P):\n",
    "        \n",
    "        self.P = P\n",
    "        self.K = None # calibration matrix\n",
    "        self.R = None # rotation\n",
    "        self.t = None # translation\n",
    "        self.c = None # camera center\n",
    "\n",
    "    def project(self, X):\n",
    "\n",
    "        x = dot(self.P, X)\n",
    "        for i in range(3):\n",
    "            x[i] /= x[2]\n",
    "\n",
    "        return x\n",
    "    "
   ]
  },
  {
   "cell_type": "code",
   "execution_count": null,
   "metadata": {},
   "outputs": [],
   "source": []
  }
 ],
 "metadata": {
  "interpreter": {
   "hash": "679da63be2c0055d67183e2c9200f35d5b8127320f0ebb41e30b251460286f5c"
  },
  "kernelspec": {
   "display_name": "Python 3.9.9 64-bit",
   "language": "python",
   "name": "python3"
  },
  "language_info": {
   "codemirror_mode": {
    "name": "ipython",
    "version": 3
   },
   "file_extension": ".py",
   "mimetype": "text/x-python",
   "name": "python",
   "nbconvert_exporter": "python",
   "pygments_lexer": "ipython3",
   "version": "3.9.9"
  },
  "orig_nbformat": 4
 },
 "nbformat": 4,
 "nbformat_minor": 2
}
